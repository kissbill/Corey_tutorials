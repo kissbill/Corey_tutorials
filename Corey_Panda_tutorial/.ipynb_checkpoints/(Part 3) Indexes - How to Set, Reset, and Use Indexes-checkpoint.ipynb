{
 "cells": [
  {
   "cell_type": "code",
   "execution_count": null,
   "metadata": {},
   "outputs": [],
   "source": [
    "import pandas as pd\n",
    "\n",
    "df = pd.read_csv('data/survey_results_public.csv', index_col='Respondent')\n",
    "\n",
    "schema_df = pd.read_csv('data/survey_results_schema.csv',index_col='Column')\n",
    "\n",
    "# survey_public_link = 'C:/Users/Erik_Dubrovszkij/Documents/Projects/Homee/developer_survey_2019/survey_results_public.csv'\n",
    "# survey_schema_link = 'C:/Users/Erik_Dubrovszkij/Documents/Projects/Homee/developer_survey_2019/survey_results_schema.csv'\n",
    "\n",
    "# df = pd.read_csv(survey_public_link, index_col='Respondent')\n",
    "# schema_df = pd.read_csv(survey_schema_link,index_col='Column')"
   ]
  },
  {
   "cell_type": "code",
   "execution_count": null,
   "metadata": {},
   "outputs": [],
   "source": [
    "schema_df.sort_index(ascending=False)"
   ]
  },
  {
   "cell_type": "code",
   "execution_count": null,
   "metadata": {},
   "outputs": [],
   "source": [
    "high_salary = ( df['ConvertedComp'] > 70000 )\n",
    "high_salary\n",
    "# true/false oszlop"
   ]
  },
  {
   "cell_type": "code",
   "execution_count": null,
   "metadata": {},
   "outputs": [],
   "source": [
    "df.loc[high_salary,['Country','LanguageWorkedWith','ConvertedComp']]"
   ]
  },
  {
   "cell_type": "code",
   "execution_count": null,
   "metadata": {},
   "outputs": [],
   "source": [
    "countries = ['Hungary','Slovakia','Russia']\n",
    "filtCounties = df['Country'].isin(countries)"
   ]
  },
  {
   "cell_type": "code",
   "execution_count": null,
   "metadata": {},
   "outputs": [],
   "source": [
    "df.loc[filtCounties,'Country']"
   ]
  },
  {
   "cell_type": "code",
   "execution_count": null,
   "metadata": {},
   "outputs": [],
   "source": [
    "filt = df['LanguageWorkedWith'].str.contains('Python', na=False)\n",
    "df.loc[filt,'LanguageWorkedWith']"
   ]
  }
 ],
 "metadata": {
  "kernelspec": {
   "display_name": "Python 3",
   "language": "python",
   "name": "python3"
  },
  "language_info": {
   "codemirror_mode": {
    "name": "ipython",
    "version": 3
   },
   "file_extension": ".py",
   "mimetype": "text/x-python",
   "name": "python",
   "nbconvert_exporter": "python",
   "pygments_lexer": "ipython3",
   "version": "3.8.2"
  }
 },
 "nbformat": 4,
 "nbformat_minor": 4
}
