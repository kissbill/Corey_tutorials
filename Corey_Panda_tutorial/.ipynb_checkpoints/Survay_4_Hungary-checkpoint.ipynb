{
 "cells": [
  {
   "cell_type": "code",
   "execution_count": 28,
   "metadata": {},
   "outputs": [],
   "source": [
    "import pandas as pd\n",
    "df = pd.read_csv('data/survey_results_public.csv', index_col='Respondent')\n",
    "schema_df = pd.read_csv('data/survey_results_schema.csv',index_col='Column')"
   ]
  },
  {
   "cell_type": "code",
   "execution_count": 34,
   "metadata": {
    "scrolled": true
   },
   "outputs": [],
   "source": [
    "country = ['Hungary']\n",
    "df_hungary = df.loc[df['Country'] == 'Hungary']"
   ]
  },
  {
   "cell_type": "code",
   "execution_count": 9,
   "metadata": {},
   "outputs": [
    {
     "data": {
      "text/plain": [
       "(513, 84)"
      ]
     },
     "execution_count": 9,
     "metadata": {},
     "output_type": "execute_result"
    }
   ],
   "source": [
    "df_hungary.shape"
   ]
  },
  {
   "cell_type": "code",
   "execution_count": null,
   "metadata": {},
   "outputs": [],
   "source": []
  },
  {
   "cell_type": "code",
   "execution_count": 3,
   "metadata": {},
   "outputs": [],
   "source": [
    "countries = ['Hungary','Slovakia','Russia']\n",
    "filtCounties = df['Country'].isin(countries)"
   ]
  },
  {
   "cell_type": "code",
   "execution_count": 4,
   "metadata": {},
   "outputs": [],
   "source": []
  },
  {
   "cell_type": "code",
   "execution_count": 5,
   "metadata": {},
   "outputs": [
    {
     "data": {
      "text/plain": [
       "(773, 3)"
      ]
     },
     "execution_count": 5,
     "metadata": {},
     "output_type": "execute_result"
    }
   ],
   "source": [
    "east_countries.shape"
   ]
  },
  {
   "cell_type": "code",
   "execution_count": null,
   "metadata": {},
   "outputs": [],
   "source": []
  },
  {
   "cell_type": "code",
   "execution_count": 6,
   "metadata": {},
   "outputs": [
    {
     "data": {
      "text/plain": [
       "Somewhat confident        158\n",
       "Very confident            111\n",
       "Not at all confident       72\n",
       "I don't have a manager     15\n",
       "Name: MgrIdiot, dtype: int64"
      ]
     },
     "execution_count": 6,
     "metadata": {},
     "output_type": "execute_result"
    }
   ],
   "source": [
    "df_hungary['MgrIdiot'].value_counts()"
   ]
  },
  {
   "cell_type": "code",
   "execution_count": 4,
   "metadata": {},
   "outputs": [
    {
     "data": {
      "text/plain": [
       "25980.0     16\n",
       "43308.0     13\n",
       "21648.0     11\n",
       "34644.0     11\n",
       "38976.0     10\n",
       "            ..\n",
       "126300.0     1\n",
       "16020.0      1\n",
       "95000.0      1\n",
       "45468.0      1\n",
       "25152.0      1\n",
       "Name: ConvertedComp, Length: 155, dtype: int64"
      ]
     },
     "execution_count": 4,
     "metadata": {},
     "output_type": "execute_result"
    }
   ],
   "source": [
    "df_hungary['ConvertedComp'].value_counts()"
   ]
  },
  {
   "cell_type": "code",
   "execution_count": 8,
   "metadata": {},
   "outputs": [],
   "source": [
    "high_salary = ( df_hungary['ConvertedComp'] > 70000 )\n",
    "low_salary = ( df_hungary['ConvertedComp'] < 70000 )\n",
    "# na_salary = ( df_hungary['ConvertedComp'] = NaN )"
   ]
  },
  {
   "cell_type": "code",
   "execution_count": 6,
   "metadata": {},
   "outputs": [],
   "source": [
    "df_hungary_aboveAvg_Salary = df_hungary.loc[high_salary,['LanguageWorkedWith','ConvertedComp']]\n",
    "df_hungary_belowHigh_Salary = df_hungary.loc[low_salary,['LanguageWorkedWith','ConvertedComp']]"
   ]
  },
  {
   "cell_type": "code",
   "execution_count": 11,
   "metadata": {},
   "outputs": [
    {
     "data": {
      "text/plain": [
       "(20, 2)"
      ]
     },
     "execution_count": 11,
     "metadata": {},
     "output_type": "execute_result"
    }
   ],
   "source": [
    "df_hungary_aboveAvg_Salary.shape"
   ]
  },
  {
   "cell_type": "code",
   "execution_count": 10,
   "metadata": {},
   "outputs": [
    {
     "data": {
      "text/plain": [
       "(309, 2)"
      ]
     },
     "execution_count": 10,
     "metadata": {},
     "output_type": "execute_result"
    }
   ],
   "source": [
    "\n",
    "df_hungary_belowHigh_Salary.shape"
   ]
  },
  {
   "cell_type": "code",
   "execution_count": 20,
   "metadata": {},
   "outputs": [
    {
     "data": {
      "text/html": [
       "<div>\n",
       "<style scoped>\n",
       "    .dataframe tbody tr th:only-of-type {\n",
       "        vertical-align: middle;\n",
       "    }\n",
       "\n",
       "    .dataframe tbody tr th {\n",
       "        vertical-align: top;\n",
       "    }\n",
       "\n",
       "    .dataframe thead th {\n",
       "        text-align: right;\n",
       "    }\n",
       "</style>\n",
       "<table border=\"1\" class=\"dataframe\">\n",
       "  <thead>\n",
       "    <tr style=\"text-align: right;\">\n",
       "      <th></th>\n",
       "      <th>Country</th>\n",
       "      <th>LanguageWorkedWith</th>\n",
       "      <th>ConvertedComp</th>\n",
       "    </tr>\n",
       "    <tr>\n",
       "      <th>Respondent</th>\n",
       "      <th></th>\n",
       "      <th></th>\n",
       "      <th></th>\n",
       "    </tr>\n",
       "  </thead>\n",
       "  <tbody>\n",
       "    <tr>\n",
       "      <th>1565</th>\n",
       "      <td>Hungary</td>\n",
       "      <td>Bash/Shell/PowerShell;C++;Python;Scala</td>\n",
       "      <td>47640.0</td>\n",
       "    </tr>\n",
       "    <tr>\n",
       "      <th>2144</th>\n",
       "      <td>Hungary</td>\n",
       "      <td>Bash/Shell/PowerShell;C++;Python</td>\n",
       "      <td>56292.0</td>\n",
       "    </tr>\n",
       "    <tr>\n",
       "      <th>3967</th>\n",
       "      <td>Hungary</td>\n",
       "      <td>C;C++;C#;Python;R</td>\n",
       "      <td>NaN</td>\n",
       "    </tr>\n",
       "    <tr>\n",
       "      <th>4746</th>\n",
       "      <td>Slovakia</td>\n",
       "      <td>Bash/Shell/PowerShell;Python;Other(s):</td>\n",
       "      <td>618708.0</td>\n",
       "    </tr>\n",
       "    <tr>\n",
       "      <th>4940</th>\n",
       "      <td>Hungary</td>\n",
       "      <td>Bash/Shell/PowerShell;C;Python;Ruby</td>\n",
       "      <td>NaN</td>\n",
       "    </tr>\n",
       "    <tr>\n",
       "      <th>...</th>\n",
       "      <td>...</td>\n",
       "      <td>...</td>\n",
       "      <td>...</td>\n",
       "    </tr>\n",
       "    <tr>\n",
       "      <th>86241</th>\n",
       "      <td>Hungary</td>\n",
       "      <td>C++;Python</td>\n",
       "      <td>36087.0</td>\n",
       "    </tr>\n",
       "    <tr>\n",
       "      <th>86996</th>\n",
       "      <td>Hungary</td>\n",
       "      <td>Bash/Shell/PowerShell;C++;HTML/CSS;PHP;Python</td>\n",
       "      <td>NaN</td>\n",
       "    </tr>\n",
       "    <tr>\n",
       "      <th>87707</th>\n",
       "      <td>Hungary</td>\n",
       "      <td>HTML/CSS;Python</td>\n",
       "      <td>NaN</td>\n",
       "    </tr>\n",
       "    <tr>\n",
       "      <th>88181</th>\n",
       "      <td>Hungary</td>\n",
       "      <td>Bash/Shell/PowerShell;HTML/CSS;PHP;Python</td>\n",
       "      <td>NaN</td>\n",
       "    </tr>\n",
       "    <tr>\n",
       "      <th>88726</th>\n",
       "      <td>Slovakia</td>\n",
       "      <td>Bash/Shell/PowerShell;Python</td>\n",
       "      <td>89364.0</td>\n",
       "    </tr>\n",
       "  </tbody>\n",
       "</table>\n",
       "<p>70 rows × 3 columns</p>\n",
       "</div>"
      ],
      "text/plain": [
       "             Country                             LanguageWorkedWith  \\\n",
       "Respondent                                                            \n",
       "1565         Hungary         Bash/Shell/PowerShell;C++;Python;Scala   \n",
       "2144         Hungary               Bash/Shell/PowerShell;C++;Python   \n",
       "3967         Hungary                              C;C++;C#;Python;R   \n",
       "4746        Slovakia         Bash/Shell/PowerShell;Python;Other(s):   \n",
       "4940         Hungary            Bash/Shell/PowerShell;C;Python;Ruby   \n",
       "...              ...                                            ...   \n",
       "86241        Hungary                                     C++;Python   \n",
       "86996        Hungary  Bash/Shell/PowerShell;C++;HTML/CSS;PHP;Python   \n",
       "87707        Hungary                                HTML/CSS;Python   \n",
       "88181        Hungary      Bash/Shell/PowerShell;HTML/CSS;PHP;Python   \n",
       "88726       Slovakia                   Bash/Shell/PowerShell;Python   \n",
       "\n",
       "            ConvertedComp  \n",
       "Respondent                 \n",
       "1565              47640.0  \n",
       "2144              56292.0  \n",
       "3967                  NaN  \n",
       "4746             618708.0  \n",
       "4940                  NaN  \n",
       "...                   ...  \n",
       "86241             36087.0  \n",
       "86996                 NaN  \n",
       "87707                 NaN  \n",
       "88181                 NaN  \n",
       "88726             89364.0  \n",
       "\n",
       "[70 rows x 3 columns]"
      ]
     },
     "execution_count": 20,
     "metadata": {},
     "output_type": "execute_result"
    }
   ],
   "source": [
    "countries = ['Hungary','Slovakia','Russia']\n",
    "filtCounties = df['Country'].isin(countries)\n",
    "filtPy = df['LanguageWorkedWith'].str.contains('Python', na=False)\n",
    "filtNotJav = ~df['LanguageWorkedWith'].str.contains('Java', na=False)\n",
    "eastCountriesPy = filtCounties & filtPy & filtNotJav\n",
    "eastCountries = df.loc[eastCountriesPy,['Country','LanguageWorkedWith','ConvertedComp']]\n",
    "eastCountries"
   ]
  },
  {
   "cell_type": "code",
   "execution_count": null,
   "metadata": {},
   "outputs": [],
   "source": [
    "https://simple.wikipedia.org/wiki/List_of_U.S._states"
   ]
  },
  {
   "cell_type": "code",
   "execution_count": 12,
   "metadata": {},
   "outputs": [
    {
     "data": {
      "text/plain": [
       "(773, 3)"
      ]
     },
     "execution_count": 12,
     "metadata": {},
     "output_type": "execute_result"
    }
   ],
   "source": [
    "east_countries.shape"
   ]
  }
 ],
 "metadata": {
  "kernelspec": {
   "display_name": "Python 3",
   "language": "python",
   "name": "python3"
  },
  "language_info": {
   "codemirror_mode": {
    "name": "ipython",
    "version": 3
   },
   "file_extension": ".py",
   "mimetype": "text/x-python",
   "name": "python",
   "nbconvert_exporter": "python",
   "pygments_lexer": "ipython3",
   "version": "3.7.0"
  }
 },
 "nbformat": 4,
 "nbformat_minor": 4
}
