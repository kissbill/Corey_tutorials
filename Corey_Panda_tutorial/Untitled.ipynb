{
 "cells": [
  {
   "cell_type": "code",
   "execution_count": 9,
   "metadata": {},
   "outputs": [
    {
     "data": {
      "text/plain": [
       "<newscatcher.Newscatcher at 0x2391426d0d0>"
      ]
     },
     "execution_count": 9,
     "metadata": {},
     "output_type": "execute_result"
    }
   ],
   "source": [
    "from newscatcher import Newscatcher\n",
    "\n",
    "news_source = Newscatcher('index.hu')\n",
    "news_source"
   ]
  },
  {
   "cell_type": "code",
   "execution_count": 12,
   "metadata": {},
   "outputs": [
    {
     "name": "stdout",
     "output_type": "stream",
     "text": [
      "1.   |  Ausztriából nehezebb lesz a hétvégén hazajutni\n",
      "2.   |  50 milliárdból épít új gyárat a Mercedes Kecskeméten\n",
      "3.   |  Ellenőrizni fogják a koronavírus elleni eszközök árdrágítását\n",
      "4.   |  Koronavírus: Biden Trump intézkedéseit bírálta\n",
      "5.   |  Rendkívüli intézkedéseket vezetett be a Fővárosi Állatkert\n",
      "6.   |  A koronavírus ellenére sem mondja le a turnéját a The Exploited, mert \"ők nem a szaros Green Day\"\n",
      "7.   |  Az a lényeg, nem szabad megmondani, hogy olaszban volt\n",
      "8.   |  A fővárosi önkormányzatok a bölcsődétől az iskoláig bezárnák az összes oktatási intézményt\n",
      "9.   |  Coronavirus: Austria closes several border crossings to Hungary\n",
      "10.  |  Eszenyi-ügy: hazugság, hogy politikai alapú támadás lenne\n",
      "11.  |  Bajorországban és Berlinben is bezárják az iskolákat a koronavírus miatt\n",
      "12.  |  Népszava: A Trefortban is felmerült a koronavírus gyanúja\n",
      "13.  |  Szükségállapotot hirdettek Spanyolországban is\n",
      "14.  |  Koronavírus: az operatív törzs pénteki sajtótájékoztatója\n",
      "15.  |  Mégis elmarad a magyar női kéziválogatott olimpiai selejtezője\n",
      "16.  |  Hungarian doctors treated a coronavirus patient for days with no protective gear\n",
      "17.  |  Nézhet élőben színdarabokat addig is, amíg karanténban van\n",
      "18.  |  Von der Leyen: A koronavírus terjedését tudjuk lassítani, de ezt a gazdaság fizeti meg\n",
      "19.  |  Éppen erre volt szükség: Egyiptomban heves esőzést és villámárvizeket okoz egy intenzív ciklon\n",
      "20.  |  Egy ideig a futóversenyekről is le kell mondanunk\n",
      "21.  |  Orlando Bloom sorozatának forgatását leállították Budapesten\n",
      "22.  |  Hungarian stages of Giro d'Italia cancelled because of coronavirus, along with a number of other events\n",
      "23.  |  Akkor is kiviszik az online bevásárlást, ha önkéntes karanténban van\n",
      "24.  |  Ukrajna is lezárja a határait vasárnaptól\n",
      "25.  |  Bezárják az összes zsinagógát\n",
      "26.  |  Elmarad a Győr, a Veszprém és a Szeged kézi-BL-meccse is a vírus miatt\n",
      "27.  |  Bolsonaro külpolitikai tanácsadója tagadja, hogy koronavírusos lett Brazília elnöke\n",
      "28.  |  Olaszország leállt, ez az űrből is látható\n",
      "29.  |  Kiürítik az utcákat, monitorozzák a lakosokat Iránban\n",
      "30.  |  Fejre szíjazható\n",
      "31.  |  Az Index cikkéből tudta meg, hogy koronavírusos lett\n",
      "32.  |  Ausztria újabb kemény óvintézkedéseket vezet be\n",
      "33.  |  Ez az ábra segít eldönteni, milyen lesz egy sci-fi film\n",
      "34.  |  Meghalt Charles Wuorinen, Pulitzer-díjas zeneszerző\n",
      "35.  |  Franciaország 100 főnél húzta meg a határt, veszélyben lehet Cannes\n",
      "36.  |  Egyre később tartja a sajtótájékoztatót az operatív törzs\n",
      "37.  |  100 millió eurós koronavírus-alapot hozott létre a Generali\n",
      "38.  |  Sorra kapják el vezető politikusok is a koronavírust\n",
      "39.  |  Megugrott az olasz hálózatok adatforgalma a karantén alatt\n",
      "40.  |  Hungarian Medical Chamber warns that doctors are unprotected from the coronavirus\n",
      "41.  |  Szerbiában is zárt kapus lesz minden futball-mérkőzés\n",
      "42.  |  PDSZ: Orbán kijelentése a tanárok fizetés nélküli szabadságáról nélkülözi a jogi alapot\n",
      "43.  |  Bajorországban öt hét iskolai szünetet rendeltek el, Ausztriában extra szabadságot kapnak a szülők\n",
      "44.  |  Több mint 5000 ember halt meg eddig a koronavírus-járványban\n",
      "45.  |  Csökkentette teljesítményét a paksi atomerőmű egy meghibásodás miatt\n",
      "46.  |  A norvég-szerb Eb-selejtezőt sem tudják lejátszani a koronavírus miatt\n",
      "47.  |  A veszélyhelyzet előtt szünetet hirdetett ki egy tapolcai iskola igazgatója – vállalja a felelősséget\n",
      "48.  |  Majdnem megerőszakolt egy nőt az utcán, négy nappal később elítélték\n",
      "49.  |  Tőlünk elvárják a kötelességtudatot, miközben a kormány félrebeszél\n",
      "50.  |  Az MMA-ban akusztikai forradalmat hoz a koronavírus\n",
      "51.  |  A norvég miniszterelnöknek is szoknia kell még a kézfogásstopot\n",
      "52.  |  Távmeghallgatással mehetnek a tárgyalások a hazai bíróságokon\n",
      "53.  |  Készülnek a futárcégek, toboroz a Netpincér\n",
      "54.  |  Az egész világon fertőtlenítik az utcákat. Pedig sok értelme nincs\n",
      "55.  |  Ne árasszuk el túl sok információval a gyereket, ha a koronavírusról kérdez\n",
      "56.  |  Ha sárga és hápog, akkor kacsa\n",
      "57.  |  Karácsony Gergely átadta a fővárosi sajtódíjakat\n",
      "58.  |  A csehek és a bolgárok kihirdették a szükségállapotot, Csehország határait lezárják\n",
      "59.  |  Újabb felfüggesztett járat, durván csökken a légi forgalom\n",
      "60.  |  Átutaztunk egész Olaszországon, sehol nem ellenőriztek minket\n"
     ]
    }
   ],
   "source": [
    "news_source.print_headlines()"
   ]
  },
  {
   "cell_type": "code",
   "execution_count": null,
   "metadata": {},
   "outputs": [],
   "source": []
  }
 ],
 "metadata": {
  "kernelspec": {
   "display_name": "Python 3",
   "language": "python",
   "name": "python3"
  },
  "language_info": {
   "codemirror_mode": {
    "name": "ipython",
    "version": 3
   },
   "file_extension": ".py",
   "mimetype": "text/x-python",
   "name": "python",
   "nbconvert_exporter": "python",
   "pygments_lexer": "ipython3",
   "version": "3.8.2"
  }
 },
 "nbformat": 4,
 "nbformat_minor": 4
}
